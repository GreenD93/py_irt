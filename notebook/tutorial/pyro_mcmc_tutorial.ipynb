{
 "cells": [
  {
   "cell_type": "code",
   "execution_count": null,
   "metadata": {},
   "outputs": [],
   "source": [
    "# Nuts ()\n",
    "\n",
    "# ref - https://github.com/mfouesneau/NUTS\n",
    "\n",
    "\"\"\"\n",
    "it takes a series of steps informed by first-order gradient information. This feature allows it to converge much more quickly to high-dimensional target\n",
    "distributions compared to simpler methods such as Metropolis, Gibbs sampling (and derivatives).\n",
    "\n",
    "NUTS uses a recursive algorithm to find likely candidate points that automatically stops when it\n",
    "starts to double back and retrace its steps.  Empirically, NUTS perform at least as effciently as \n",
    "and sometimes more effciently than a well tuned standard HMC method, without requiring user intervention or costly tuning runs.\n",
    "\"\"\""
   ]
  }
 ],
 "metadata": {
  "kernelspec": {
   "display_name": "Python 3",
   "language": "python",
   "name": "python3"
  },
  "language_info": {
   "codemirror_mode": {
    "name": "ipython",
    "version": 3
   },
   "file_extension": ".py",
   "mimetype": "text/x-python",
   "name": "python",
   "nbconvert_exporter": "python",
   "pygments_lexer": "ipython3",
   "version": "3.8.3"
  }
 },
 "nbformat": 4,
 "nbformat_minor": 4
}
