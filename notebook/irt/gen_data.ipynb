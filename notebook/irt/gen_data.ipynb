{
 "cells": [
  {
   "cell_type": "code",
   "execution_count": 1,
   "metadata": {},
   "outputs": [],
   "source": [
    "import torch\n",
    "\n",
    "import pyro\n",
    "import pyro.poutine as poutine\n",
    "import pyro.distributions as dist\n",
    "\n",
    "ability_dim = 1\n",
    "num_person = 10000\n",
    "num_item = 100\n",
    "\n",
    "device = torch.device('cpu')"
   ]
  },
  {
   "cell_type": "code",
   "execution_count": 2,
   "metadata": {},
   "outputs": [],
   "source": [
    "\"\"\"\n",
    "Docstring:\n",
    "Creates a normal (also called Gaussian) distribution parameterized by loc and scale.\n",
    "\n",
    "Args:\n",
    "loc (float or Tensor): mean of the distribution (often referred to as mu)\n",
    "scale (float or Tensor): standard deviation of the distribution (often referred to as sigma)\n",
    "\"\"\"\n",
    "annealing_factor = 1\n",
    "nonlinear = False\n",
    "mask = None\n",
    "response = None\n",
    "\n",
    "# loc : 평균, scale : standard deviation?\n",
    "ability_prior = dist.Normal(torch.zeros(num_person, ability_dim),\n",
    "                            torch.ones(num_person, ability_dim))\n",
    "\n",
    "with poutine.scale(scale=annealing_factor):\n",
    "    ability = pyro.sample(\"ability\", ability_prior)\n",
    "        \n",
    "item_feat_prior = dist.Normal(\n",
    "    torch.zeros((num_item, 1), device=device), \n",
    "    torch.ones((num_item, 1), device=device),\n",
    ")\n",
    "\n",
    "item_feat = pyro.sample(\"item_feat\", item_feat_prior)\n",
    "difficulty = item_feat\n",
    "\n",
    "logit = (torch.sum(ability, dim=1, keepdim=True) + difficulty.T).unsqueeze(2)\n",
    "\n",
    "response_mu = torch.sigmoid(logit)\n",
    "\n",
    "response_dist = dist.Bernoulli(response_mu)\n",
    "response = pyro.sample(\"response\", response_dist)"
   ]
  },
  {
   "cell_type": "code",
   "execution_count": 9,
   "metadata": {},
   "outputs": [],
   "source": [
    "import os\n",
    "\n",
    "OUT_DIR = 'data'\n",
    "\n",
    "dataset = {'response': response, 'ability': ability, 'item_feat': item_feat}\n",
    "torch.save(dataset, os.path.join(OUT_DIR, '10000_100_simulation.path'))"
   ]
  }
 ],
 "metadata": {
  "kernelspec": {
   "display_name": "Python 3",
   "language": "python",
   "name": "python3"
  },
  "language_info": {
   "codemirror_mode": {
    "name": "ipython",
    "version": 3
   },
   "file_extension": ".py",
   "mimetype": "text/x-python",
   "name": "python",
   "nbconvert_exporter": "python",
   "pygments_lexer": "ipython3",
   "version": "3.8.5"
  }
 },
 "nbformat": 4,
 "nbformat_minor": 4
}
